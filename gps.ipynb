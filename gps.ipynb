{
 "cells": [
  {
   "cell_type": "code",
   "execution_count": 7,
   "id": "e1d0856f",
   "metadata": {},
   "outputs": [
    {
     "name": "stdout",
     "output_type": "stream",
     "text": [
      "Requirement already satisfied: pyserial in c:\\users\\rober\\appdata\\local\\programs\\python\\python311\\lib\\site-packages (3.5)\n",
      "Requirement already satisfied: pynmea2 in c:\\users\\rober\\appdata\\local\\programs\\python\\python311\\lib\\site-packages (1.19.0)\n",
      "Requirement already satisfied: geopy in c:\\users\\rober\\appdata\\local\\programs\\python\\python311\\lib\\site-packages (2.4.1)\n",
      "Requirement already satisfied: geographiclib<3,>=1.52 in c:\\users\\rober\\appdata\\local\\programs\\python\\python311\\lib\\site-packages (from geopy) (2.0)\n"
     ]
    }
   ],
   "source": [
    "!pip install pyserial\n",
    "!pip install pynmea2\n",
    "!pip install geopy\n",
    "import serial\n",
    "import pynmea2\n",
    "from geopy.distance import geodesic\n",
    "from math import atan2, degrees, sin, cos"
   ]
  },
  {
   "cell_type": "code",
   "execution_count": 25,
   "id": "c9c52fed",
   "metadata": {},
   "outputs": [
    {
     "name": "stdout",
     "output_type": "stream",
     "text": [
      "Current Location: Latitude 3, Longitude 2\n",
      "Enter destination latitude: 3.00001\n",
      "Enter destination longitude: 2.0003\n",
      "Bearing to destination: 271.92722273578676 degrees\n",
      "Distance to destination: 33.368711604103815 meters\n"
     ]
    }
   ],
   "source": [
    "def parse_gps_data(gps_data): #Parsing the GPS recieved sigal\n",
    "    try:\n",
    "        msg = pynmea2.parse(gps_data)\n",
    "        if msg.sentence_type == 'GGA':\n",
    "            return msg.latitude, msg.longitude \n",
    "    except pynmea2.ParseError as e:\n",
    "        print(f\"Error parsing GPS data: {e}\")\n",
    "    return None, None\n",
    "\n",
    "def read_gps_data(serial_port): #Recieving the GPS signal, then sending to parse\n",
    "    with serial.Serial(serial_port, baudrate=9600, timeout=1) as ser: #The port is /dev/ttyUSB0?\n",
    "        while True:\n",
    "            gps_data = ser.readline().decode('utf-8')\n",
    "            if gps_data.startswith('$'):\n",
    "                return parse_gps_data(gps_data)\n",
    "\n",
    "def calculate_bearing(current_coords, destination_coords): #2D bearing (height is not taken into account)\n",
    "    #Calculate the direction between two points (bearing)\n",
    "    lat1, lon1 = current_coords\n",
    "    lat2, lon2 = destination_coords\n",
    "\n",
    "    delta_lon = lon2 - lon1 #The change in x\n",
    "\n",
    "    x = atan2(\n",
    "        sin(delta_lon) * cos(lat2),\n",
    "        cos(lat1) * sin(lat2) - (sin(lat1) * cos(lat2) * cos(delta_lon))\n",
    "    )\n",
    "\n",
    "    # Convert radians to degrees\n",
    "    bearing = (degrees(x) + 360) % 360\n",
    "    return bearing\n",
    "\n",
    "def calculate_distance(current_coords, destination_coords):\n",
    "    return geodesic(current_coords, destination_coords).meters\n",
    "\n",
    "if __name__ == \"__main__\": #So i can import the file from another without executing anything\n",
    "    serial_port = \"/dev/ttyUSB0\"  #Replace with GPS port\n",
    "\n",
    "    # Read current GPS coordinates\n",
    "    current_lat, current_lon = read_gps_data(serial_port)\n",
    "    #current_lat, current_lon = 3,2\n",
    "\n",
    "    if current_lat is not None and current_lon is not None:\n",
    "        print(f\"Current Location: Latitude {current_lat}, Longitude {current_lon}\")\n",
    "\n",
    "        #For test (for now)\n",
    "        dest_lat = float(input(\"Enter destination latitude: \"))\n",
    "        dest_lon = float(input(\"Enter destination longitude: \"))\n",
    "\n",
    "        # Calculate direction (bearing) to the destination\n",
    "        destination_coords = (dest_lat, dest_lon)\n",
    "        bearing = calculate_bearing((current_lat, current_lon), destination_coords)\n",
    "        distance = calculate_distance((current_lat, current_lon), (dest_lat, dest_lon))\n",
    "        print(f\"Bearing to destination: {bearing} degrees\")\n",
    "        print(f\"Distance to destination: {distance} meters\")\n",
    "    else:\n",
    "        print(\"Unable to obtain GPS coordinates.\")"
   ]
  },
  {
   "cell_type": "code",
   "execution_count": null,
   "id": "67432610",
   "metadata": {},
   "outputs": [],
   "source": []
  }
 ],
 "metadata": {
  "kernelspec": {
   "display_name": "Python 3 (ipykernel)",
   "language": "python",
   "name": "python3"
  },
  "language_info": {
   "codemirror_mode": {
    "name": "ipython",
    "version": 3
   },
   "file_extension": ".py",
   "mimetype": "text/x-python",
   "name": "python",
   "nbconvert_exporter": "python",
   "pygments_lexer": "ipython3",
   "version": "3.11.4"
  }
 },
 "nbformat": 4,
 "nbformat_minor": 5
}
