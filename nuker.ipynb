{
 "cells": [
  {
   "cell_type": "code",
   "execution_count": 5,
   "id": "d8c690c2",
   "metadata": {},
   "outputs": [],
   "source": [
    "import os\n",
    "\n",
    "def delete_contents(folder_path):\n",
    "    # Check if the folder exists\n",
    "    if os.path.exists(folder_path):\n",
    "        # Get all files and subdirectories in the folder\n",
    "        for file_name in os.listdir(folder_path):\n",
    "            file_path = os.path.join(folder_path, file_name)\n",
    "\n",
    "            # Check if it's a file or a directory\n",
    "            if os.path.isfile(file_path):\n",
    "                # If it's a file, remove it\n",
    "                os.remove(file_path)\n",
    "            elif os.path.isdir(file_path):\n",
    "                # If it's a directory, recursively delete its contents\n",
    "                delete_contents(file_path)\n",
    "\n",
    "\n",
    "        print(f\"Contents of {folder_path} deleted successfully.\")\n",
    "    else:\n",
    "        print(f\"{folder_path} does not exist.\")\n",
    "\n",
    "# Specify the paths of the \"yes\" and \"no\" folders\n",
    "forward = \"fd\"\n",
    "right = \"rt\"\n",
    "left = \"lt\"\n",
    "right_rotate = \"rtr\"\n",
    "left_rotate = \"ltr\"\n",
    "\n"
   ]
  },
  {
   "cell_type": "code",
   "execution_count": 6,
   "id": "7d2af32e",
   "metadata": {},
   "outputs": [
    {
     "name": "stdout",
     "output_type": "stream",
     "text": [
      "Contents of fd\\.ipynb_checkpoints deleted successfully.\n",
      "Contents of fd deleted successfully.\n",
      "Contents of rt\\.ipynb_checkpoints deleted successfully.\n",
      "Contents of rt deleted successfully.\n",
      "Contents of lt deleted successfully.\n",
      "Contents of rtr deleted successfully.\n",
      "Contents of ltr deleted successfully.\n"
     ]
    }
   ],
   "source": [
    "delete_contents(forward)\n",
    "delete_contents(right)\n",
    "delete_contents(left)\n",
    "delete_contents(right_rotate)\n",
    "delete_contents(left_rotate)"
   ]
  },
  {
   "cell_type": "code",
   "execution_count": null,
   "id": "66ed7ff4",
   "metadata": {},
   "outputs": [],
   "source": []
  }
 ],
 "metadata": {
  "kernelspec": {
   "display_name": "Python 3 (ipykernel)",
   "language": "python",
   "name": "python3"
  },
  "language_info": {
   "codemirror_mode": {
    "name": "ipython",
    "version": 3
   },
   "file_extension": ".py",
   "mimetype": "text/x-python",
   "name": "python",
   "nbconvert_exporter": "python",
   "pygments_lexer": "ipython3",
   "version": "3.11.4"
  }
 },
 "nbformat": 4,
 "nbformat_minor": 5
}
